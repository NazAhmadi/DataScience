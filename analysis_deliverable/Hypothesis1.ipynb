{
  "cells": [
    {
      "cell_type": "code",
      "execution_count": 1,
      "metadata": {},
      "outputs": [
        {
          "data": {
            "text/html": [
              "<div>\n",
              "<style scoped>\n",
              "    .dataframe tbody tr th:only-of-type {\n",
              "        vertical-align: middle;\n",
              "    }\n",
              "\n",
              "    .dataframe tbody tr th {\n",
              "        vertical-align: top;\n",
              "    }\n",
              "\n",
              "    .dataframe thead th {\n",
              "        text-align: right;\n",
              "    }\n",
              "</style>\n",
              "<table border=\"1\" class=\"dataframe\">\n",
              "  <thead>\n",
              "    <tr style=\"text-align: right;\">\n",
              "      <th></th>\n",
              "      <th>Unnamed: 0</th>\n",
              "      <th>State</th>\n",
              "      <th>City</th>\n",
              "      <th>Population</th>\n",
              "      <th>V_crime</th>\n",
              "      <th>Murder</th>\n",
              "      <th>Rape</th>\n",
              "      <th>Robbery</th>\n",
              "      <th>Aggravated assault</th>\n",
              "      <th>Property crime</th>\n",
              "      <th>...</th>\n",
              "      <th>areaname</th>\n",
              "      <th>family_member_count</th>\n",
              "      <th>housing_cost</th>\n",
              "      <th>food_cost</th>\n",
              "      <th>transportation_cost</th>\n",
              "      <th>healthcare_cost</th>\n",
              "      <th>other_necessities_cost</th>\n",
              "      <th>taxes</th>\n",
              "      <th>total_cost</th>\n",
              "      <th>median_family_income</th>\n",
              "    </tr>\n",
              "  </thead>\n",
              "  <tbody>\n",
              "    <tr>\n",
              "      <th>0</th>\n",
              "      <td>7</td>\n",
              "      <td>SOUTH CAROLINA</td>\n",
              "      <td>DUE WEST</td>\n",
              "      <td>1,240</td>\n",
              "      <td>0</td>\n",
              "      <td>0.0</td>\n",
              "      <td>0</td>\n",
              "      <td>0</td>\n",
              "      <td>0</td>\n",
              "      <td>18</td>\n",
              "      <td>...</td>\n",
              "      <td>Abbeville County, SC</td>\n",
              "      <td>2p2c</td>\n",
              "      <td>8148.0</td>\n",
              "      <td>9714.21384</td>\n",
              "      <td>14433.5988</td>\n",
              "      <td>13507.2000</td>\n",
              "      <td>6472.18428</td>\n",
              "      <td>4582.35168</td>\n",
              "      <td>63942.8376</td>\n",
              "      <td>53251.199219</td>\n",
              "    </tr>\n",
              "    <tr>\n",
              "      <th>1</th>\n",
              "      <td>17</td>\n",
              "      <td>SOUTH CAROLINA</td>\n",
              "      <td>CALHOUN FALLS</td>\n",
              "      <td>1,912</td>\n",
              "      <td>14</td>\n",
              "      <td>2.0</td>\n",
              "      <td>0</td>\n",
              "      <td>0</td>\n",
              "      <td>12</td>\n",
              "      <td>31</td>\n",
              "      <td>...</td>\n",
              "      <td>Abbeville County, SC</td>\n",
              "      <td>2p2c</td>\n",
              "      <td>8148.0</td>\n",
              "      <td>9714.21384</td>\n",
              "      <td>14433.5988</td>\n",
              "      <td>13507.2000</td>\n",
              "      <td>6472.18428</td>\n",
              "      <td>4582.35168</td>\n",
              "      <td>63942.8376</td>\n",
              "      <td>53251.199219</td>\n",
              "    </tr>\n",
              "    <tr>\n",
              "      <th>2</th>\n",
              "      <td>27</td>\n",
              "      <td>SOUTH CAROLINA</td>\n",
              "      <td>ABBEVILLE</td>\n",
              "      <td>5,017</td>\n",
              "      <td>47</td>\n",
              "      <td>9.0</td>\n",
              "      <td>4</td>\n",
              "      <td>4</td>\n",
              "      <td>30</td>\n",
              "      <td>123</td>\n",
              "      <td>...</td>\n",
              "      <td>Abbeville County, SC</td>\n",
              "      <td>2p2c</td>\n",
              "      <td>8148.0</td>\n",
              "      <td>9714.21384</td>\n",
              "      <td>14433.5988</td>\n",
              "      <td>13507.2000</td>\n",
              "      <td>6472.18428</td>\n",
              "      <td>4582.35168</td>\n",
              "      <td>63942.8376</td>\n",
              "      <td>53251.199219</td>\n",
              "    </tr>\n",
              "    <tr>\n",
              "      <th>3</th>\n",
              "      <td>35</td>\n",
              "      <td>LOUISIANA</td>\n",
              "      <td>CHURCH POINT</td>\n",
              "      <td>4,424</td>\n",
              "      <td>39</td>\n",
              "      <td>1.0</td>\n",
              "      <td>1</td>\n",
              "      <td>0</td>\n",
              "      <td>37</td>\n",
              "      <td>78</td>\n",
              "      <td>...</td>\n",
              "      <td>Acadia Parish, LA HUD Metro FMR Area</td>\n",
              "      <td>2p2c</td>\n",
              "      <td>8700.0</td>\n",
              "      <td>9114.57060</td>\n",
              "      <td>13866.2988</td>\n",
              "      <td>18289.0836</td>\n",
              "      <td>6454.92192</td>\n",
              "      <td>7041.48408</td>\n",
              "      <td>72526.2192</td>\n",
              "      <td>58169.695312</td>\n",
              "    </tr>\n",
              "    <tr>\n",
              "      <th>4</th>\n",
              "      <td>45</td>\n",
              "      <td>LOUISIANA</td>\n",
              "      <td>CROWLEY</td>\n",
              "      <td>12,621</td>\n",
              "      <td>158</td>\n",
              "      <td>1.0</td>\n",
              "      <td>8</td>\n",
              "      <td>14</td>\n",
              "      <td>135</td>\n",
              "      <td>528</td>\n",
              "      <td>...</td>\n",
              "      <td>Acadia Parish, LA HUD Metro FMR Area</td>\n",
              "      <td>2p2c</td>\n",
              "      <td>8700.0</td>\n",
              "      <td>9114.57060</td>\n",
              "      <td>13866.2988</td>\n",
              "      <td>18289.0836</td>\n",
              "      <td>6454.92192</td>\n",
              "      <td>7041.48408</td>\n",
              "      <td>72526.2192</td>\n",
              "      <td>58169.695312</td>\n",
              "    </tr>\n",
              "  </tbody>\n",
              "</table>\n",
              "<p>5 rows × 34 columns</p>\n",
              "</div>"
            ],
            "text/plain": [
              "   Unnamed: 0           State           City Population V_crime  Murder Rape  \\\n",
              "0           7  SOUTH CAROLINA       DUE WEST      1,240       0     0.0    0   \n",
              "1          17  SOUTH CAROLINA  CALHOUN FALLS      1,912      14     2.0    0   \n",
              "2          27  SOUTH CAROLINA      ABBEVILLE      5,017      47     9.0    4   \n",
              "3          35       LOUISIANA   CHURCH POINT      4,424      39     1.0    1   \n",
              "4          45       LOUISIANA        CROWLEY     12,621     158     1.0    8   \n",
              "\n",
              "  Robbery Aggravated assault Property crime  ...  \\\n",
              "0       0                  0             18  ...   \n",
              "1       0                 12             31  ...   \n",
              "2       4                 30            123  ...   \n",
              "3       0                 37             78  ...   \n",
              "4      14                135            528  ...   \n",
              "\n",
              "                               areaname family_member_count housing_cost  \\\n",
              "0                  Abbeville County, SC                2p2c       8148.0   \n",
              "1                  Abbeville County, SC                2p2c       8148.0   \n",
              "2                  Abbeville County, SC                2p2c       8148.0   \n",
              "3  Acadia Parish, LA HUD Metro FMR Area                2p2c       8700.0   \n",
              "4  Acadia Parish, LA HUD Metro FMR Area                2p2c       8700.0   \n",
              "\n",
              "    food_cost transportation_cost healthcare_cost  other_necessities_cost  \\\n",
              "0  9714.21384          14433.5988      13507.2000              6472.18428   \n",
              "1  9714.21384          14433.5988      13507.2000              6472.18428   \n",
              "2  9714.21384          14433.5988      13507.2000              6472.18428   \n",
              "3  9114.57060          13866.2988      18289.0836              6454.92192   \n",
              "4  9114.57060          13866.2988      18289.0836              6454.92192   \n",
              "\n",
              "        taxes  total_cost  median_family_income  \n",
              "0  4582.35168  63942.8376          53251.199219  \n",
              "1  4582.35168  63942.8376          53251.199219  \n",
              "2  4582.35168  63942.8376          53251.199219  \n",
              "3  7041.48408  72526.2192          58169.695312  \n",
              "4  7041.48408  72526.2192          58169.695312  \n",
              "\n",
              "[5 rows x 34 columns]"
            ]
          },
          "execution_count": 1,
          "metadata": {},
          "output_type": "execute_result"
        }
      ],
      "source": [
        "import pandas as pd\n",
        "\n",
        "# Load the data\n",
        "data_path = 'FinalMergedData3.csv'\n",
        "data = pd.read_csv(data_path)\n",
        "\n",
        "# Display the first few rows of the dataframe to understand its structure\n",
        "data.head()\n"
      ]
    },
    {
      "cell_type": "code",
      "execution_count": 4,
      "metadata": {},
      "outputs": [],
      "source": [
        "# Remove commas from columns that might contain them and convert to numeric\n",
        "columns_to_clean = ['Population','V_crime', 'Murder', 'Rape', 'Robbery', 'Aggravated assault', 'Property crime', 'Burglary',\t'Larceny-theft','Motor vehicle theft']\n",
        "for col in columns_to_clean:\n",
        "    data[col] = pd.to_numeric(data[col].astype(str).str.replace(',', ''), errors='coerce')\n",
        "\n",
        "# Recalculate the total crimes and crime rate\n",
        "data['Total Crimes'] = data[['V_crime', 'Murder', 'Rape', 'Robbery', 'Aggravated assault', 'Property crime', 'Burglary','Larceny-theft','Motor vehicle theft']].sum(axis=1)\n",
        "data['Crime Rate'] = data['Total Crimes'] / data['Population']\n",
        "\n",
        "# Show updated dataframe\n",
        "data[['City', 'Population', 'Total Crimes', 'Crime Rate', 'median_family_income']].head()\n",
        "file_path = 'cleaned_data.csv'\n",
        "data.to_csv(file_path, index=False)\n"
      ]
    },
    {
      "cell_type": "code",
      "execution_count": 13,
      "metadata": {},
      "outputs": [
        {
          "data": {
            "text/plain": [
              "(nan, nan)"
            ]
          },
          "execution_count": 13,
          "metadata": {},
          "output_type": "execute_result"
        }
      ],
      "source": [
        "from scipy.stats import ttest_ind\n",
        "\n",
        "# Determine the median of the median family incomes\n",
        "# median_income = data['median_family_income'].median()\n",
        "median_income = data['median_family_income'].mean()\n",
        "\n",
        "# Split the data into high and low income groups\n",
        "high_income_cities = data[data['median_family_income'] > median_income]\n",
        "low_income_cities = data[data['median_family_income'] <= median_income]\n",
        "\n",
        "# Perform t-test on the crime rates of the two groups\n",
        "t_stat, p_value = ttest_ind(high_income_cities['Crime Rate'], low_income_cities['Crime Rate'], equal_var=False)\n",
        "\n",
        "t_stat, p_value\n"
      ]
    },
    {
      "cell_type": "code",
      "execution_count": 14,
      "metadata": {},
      "outputs": [
        {
          "data": {
            "text/plain": [
              "(1, 0)"
            ]
          },
          "execution_count": 14,
          "metadata": {},
          "output_type": "execute_result"
        }
      ],
      "source": [
        "# Check for NaN values in the Crime Rate for both groups\n",
        "nan_counts_high = high_income_cities['Crime Rate'].isna().sum()\n",
        "nan_counts_low = low_income_cities['Crime Rate'].isna().sum()\n",
        "\n",
        "nan_counts_high, nan_counts_low\n"
      ]
    },
    {
      "cell_type": "code",
      "execution_count": 15,
      "metadata": {},
      "outputs": [
        {
          "data": {
            "text/plain": [
              "(-0.5474664405770523, 0.5840823997191555)"
            ]
          },
          "execution_count": 15,
          "metadata": {},
          "output_type": "execute_result"
        }
      ],
      "source": [
        "# Remove NaN values from the high-income group\n",
        "high_income_cities_clean = high_income_cities.dropna(subset=['Crime Rate'])\n",
        "\n",
        "# Rerun t-test\n",
        "t_stat, p_value = ttest_ind(high_income_cities_clean['Crime Rate'], low_income_cities['Crime Rate'], equal_var=False)\n",
        "\n",
        "t_stat, p_value\n"
      ]
    },
    {
      "cell_type": "markdown",
      "metadata": {},
      "source": [
        "Median Criteria Results:\n",
        "\n",
        "    t-statistic: -0.7445\n",
        "    p-value: 0.4566\n",
        "\n",
        "The t-test conducted using the median as the criteria for categorizing cities into above and below median family income groups yields a t-statistic of -0.7445, which indicates that the mean crime rate for the above-average income group is lower than that of the below-average income group. However, the negative sign is not very strong, which is further reflected in the p-value.\n",
        "The p-value of 0.4566 is well above the conventional threshold of 0.05, suggesting that the difference in crime rates between the two groups is not statistically significant. With such a high p-value, we cannot reject the null hypothesis that there is no difference between the two groups’ crime rates based on income level.\n",
        "\n",
        "Mean Criteria Results:\n",
        "\n",
        "    t-statistic: -0.5475\n",
        "    p-value: 0.5841\n",
        "\n",
        "Similarly, when using the mean as the criteria for categorization, the t-statistic of -0.5475 also indicates a lower crime rate in the above-average income group, but, like the median, the difference is not pronounced.\n",
        "The p-value of 0.5841 is even higher than that from the median criteria test, further indicating that there is no statistically significant difference in crime rates between cities with above-average and below-average incomes."
      ]
    },
    {
      "cell_type": "markdown",
      "metadata": {},
      "source": [
        "______________________________CHI Squared Test____________________________"
      ]
    },
    {
      "cell_type": "markdown",
      "metadata": {},
      "source": [
        "A Chi-squared test is generally used to examine the relationship between categorical variables, often applied to frequency data in a contingency table. For the hypothesis that cities with higher median family incomes will have lower crime rates, using a Chi-squared test would require us to categorize both the income and crime rate data into bins (e.g., high and low).\n",
        "We'll split each variable into two categories: above average and below average. Then, we'll create a new contingency table and run the Chi-squared test again using these new categories. "
      ]
    },
    {
      "cell_type": "code",
      "execution_count": 16,
      "metadata": {},
      "outputs": [
        {
          "data": {
            "text/plain": [
              "(Crime Rate Level Average  Above Average  Below Average\n",
              " Income Level Average                                  \n",
              " Above Average                       539           2012\n",
              " Below Average                      1102           2589,\n",
              " 58.84179061643004,\n",
              " 1.708732134870535e-14)"
            ]
          },
          "execution_count": 16,
          "metadata": {},
          "output_type": "execute_result"
        }
      ],
      "source": [
        "from scipy.stats import chi2_contingency\n",
        "# Compute the average values for median_family_income and Crime Rate (%)\n",
        "average_income = data['median_family_income'].mean()\n",
        "average_crime_rate = data['Crime Rate'].mean()\n",
        "\n",
        "# Categorize data based on these averages\n",
        "data['Income Level Average'] = data['median_family_income'].apply(lambda x: 'Above Average' if x > average_income else 'Below Average')\n",
        "data['Crime Rate Level Average'] = data['Crime Rate'].apply(lambda x: 'Above Average' if x > average_crime_rate else 'Below Average')\n",
        "\n",
        "# Create a new contingency table\n",
        "contingency_table_average = pd.crosstab(data['Income Level Average'], data['Crime Rate Level Average'])\n",
        "\n",
        "# Perform Chi-squared test on the new table\n",
        "chi2_average, p_chi2_average, dof_average, expected_average = chi2_contingency(contingency_table_average)\n",
        "\n",
        "contingency_table_average, chi2_average, p_chi2_average\n"
      ]
    },
    {
      "cell_type": "markdown",
      "metadata": {},
      "source": [
        "Contingency Table:\n",
        "Income Level Average\tAbove Average Crime Rate\tBelow Average Crime Rate\n",
        "Above Average Income\t               539\t                    2012\n",
        "Below Average Income\t               1102\t                    2589\n",
        "Chi-squared Test Results:\n",
        "\n",
        "Chi-squared Statistic: 58.8418\n",
        "P-value: 1.7087e-14\n",
        "\n",
        "The Chi-squared test is used to determine if there is a significant association between two categorical variables. Here, the two variables are Income Level Average and Crime Rate Level Average, each split into 'Above Average' and 'Below Average' based on their respective means.\n",
        "\n",
        "The Chi-squared Statistic of 58.8418 is quite high, which generally indicates a strong association between the two categorical variables. The p-value is extremely low (1.7087e-14), which is much less than the common alpha level of 0.05. This very low p-value indicates that there is a statistically significant difference between the observed frequencies in the categories and the frequencies we would expect to see if there was no association between income level and crime rate.\n",
        "With the p-value being so low, we reject the null hypothesis of independence between the two variables. This suggests that there is a significant association between income levels and crime rates as categorized. \n",
        "As a result, A larger number of cities with above-average income have a below-average crime rate compared to those with an above-average crime rate. Similarly, cities with below-average income have more occurrences of below-average crime rates, but the ratio of above to below-average crime rates is closer than in the above-average income group.\n",
        "\n"
      ]
    }
  ],
  "metadata": {
    "colab": {
      "provenance": []
    },
    "kernelspec": {
      "display_name": "Python 3",
      "name": "python3"
    },
    "language_info": {
      "codemirror_mode": {
        "name": "ipython",
        "version": 3
      },
      "file_extension": ".py",
      "mimetype": "text/x-python",
      "name": "python",
      "nbconvert_exporter": "python",
      "pygments_lexer": "ipython3",
      "version": "3.11.2"
    }
  },
  "nbformat": 4,
  "nbformat_minor": 0
}
