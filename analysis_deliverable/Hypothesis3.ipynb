{
  "nbformat": 4,
  "nbformat_minor": 0,
  "metadata": {
    "colab": {
      "provenance": []
    },
    "kernelspec": {
      "name": "python3",
      "display_name": "Python 3"
    },
    "language_info": {
      "name": "python"
    }
  },
  "cells": [
    {
      "cell_type": "code",
      "execution_count": 2,
      "metadata": {
        "colab": {
          "base_uri": "https://localhost:8080/"
        },
        "id": "93Y_X5DZyP1D",
        "outputId": "aec7dba4-fea3-4f43-9f59-d16f9abc234a"
      },
      "outputs": [
        {
          "output_type": "stream",
          "name": "stdout",
          "text": [
            "Mounted at /content/drive\n"
          ]
        }
      ],
      "source": [
        "from google.colab import drive\n",
        "drive.mount('/content/drive')"
      ]
    },
    {
      "cell_type": "code",
      "source": [
        "import pandas as pd\n",
        "dataset = pd.read_csv('/content/drive/MyDrive/DataScienceFinalProject/FinalMergedData3.csv')"
      ],
      "metadata": {
        "id": "eJ3bKWJAyWOo"
      },
      "execution_count": 3,
      "outputs": []
    },
    {
      "cell_type": "code",
      "source": [
        "dataset.head()"
      ],
      "metadata": {
        "colab": {
          "base_uri": "https://localhost:8080/",
          "height": 508
        },
        "id": "oa6e3hCjy460",
        "outputId": "04b50f1d-a0bc-46fd-c833-3bb33da7ae3d"
      },
      "execution_count": 4,
      "outputs": [
        {
          "output_type": "execute_result",
          "data": {
            "text/plain": [
              "   Unnamed: 0           State           City Population V_crime  Murder Rape  \\\n",
              "0           7  SOUTH CAROLINA       DUE WEST      1,240       0     0.0    0   \n",
              "1          17  SOUTH CAROLINA  CALHOUN FALLS      1,912      14     2.0    0   \n",
              "2          27  SOUTH CAROLINA      ABBEVILLE      5,017      47     9.0    4   \n",
              "3          35       LOUISIANA   CHURCH POINT      4,424      39     1.0    1   \n",
              "4          45       LOUISIANA        CROWLEY     12,621     158     1.0    8   \n",
              "\n",
              "  Robbery Aggravated assault Property crime  ...  \\\n",
              "0       0                  0             18  ...   \n",
              "1       0                 12             31  ...   \n",
              "2       4                 30            123  ...   \n",
              "3       0                 37             78  ...   \n",
              "4      14                135            528  ...   \n",
              "\n",
              "                               areaname family_member_count housing_cost  \\\n",
              "0                  Abbeville County, SC                2p2c       8148.0   \n",
              "1                  Abbeville County, SC                2p2c       8148.0   \n",
              "2                  Abbeville County, SC                2p2c       8148.0   \n",
              "3  Acadia Parish, LA HUD Metro FMR Area                2p2c       8700.0   \n",
              "4  Acadia Parish, LA HUD Metro FMR Area                2p2c       8700.0   \n",
              "\n",
              "    food_cost transportation_cost healthcare_cost  other_necessities_cost  \\\n",
              "0  9714.21384          14433.5988      13507.2000              6472.18428   \n",
              "1  9714.21384          14433.5988      13507.2000              6472.18428   \n",
              "2  9714.21384          14433.5988      13507.2000              6472.18428   \n",
              "3  9114.57060          13866.2988      18289.0836              6454.92192   \n",
              "4  9114.57060          13866.2988      18289.0836              6454.92192   \n",
              "\n",
              "        taxes  total_cost  median_family_income  \n",
              "0  4582.35168  63942.8376          53251.199219  \n",
              "1  4582.35168  63942.8376          53251.199219  \n",
              "2  4582.35168  63942.8376          53251.199219  \n",
              "3  7041.48408  72526.2192          58169.695312  \n",
              "4  7041.48408  72526.2192          58169.695312  \n",
              "\n",
              "[5 rows x 34 columns]"
            ],
            "text/html": [
              "\n",
              "  <div id=\"df-0c7d5e21-58df-462a-acac-21ce1d6ac188\" class=\"colab-df-container\">\n",
              "    <div>\n",
              "<style scoped>\n",
              "    .dataframe tbody tr th:only-of-type {\n",
              "        vertical-align: middle;\n",
              "    }\n",
              "\n",
              "    .dataframe tbody tr th {\n",
              "        vertical-align: top;\n",
              "    }\n",
              "\n",
              "    .dataframe thead th {\n",
              "        text-align: right;\n",
              "    }\n",
              "</style>\n",
              "<table border=\"1\" class=\"dataframe\">\n",
              "  <thead>\n",
              "    <tr style=\"text-align: right;\">\n",
              "      <th></th>\n",
              "      <th>Unnamed: 0</th>\n",
              "      <th>State</th>\n",
              "      <th>City</th>\n",
              "      <th>Population</th>\n",
              "      <th>V_crime</th>\n",
              "      <th>Murder</th>\n",
              "      <th>Rape</th>\n",
              "      <th>Robbery</th>\n",
              "      <th>Aggravated assault</th>\n",
              "      <th>Property crime</th>\n",
              "      <th>...</th>\n",
              "      <th>areaname</th>\n",
              "      <th>family_member_count</th>\n",
              "      <th>housing_cost</th>\n",
              "      <th>food_cost</th>\n",
              "      <th>transportation_cost</th>\n",
              "      <th>healthcare_cost</th>\n",
              "      <th>other_necessities_cost</th>\n",
              "      <th>taxes</th>\n",
              "      <th>total_cost</th>\n",
              "      <th>median_family_income</th>\n",
              "    </tr>\n",
              "  </thead>\n",
              "  <tbody>\n",
              "    <tr>\n",
              "      <th>0</th>\n",
              "      <td>7</td>\n",
              "      <td>SOUTH CAROLINA</td>\n",
              "      <td>DUE WEST</td>\n",
              "      <td>1,240</td>\n",
              "      <td>0</td>\n",
              "      <td>0.0</td>\n",
              "      <td>0</td>\n",
              "      <td>0</td>\n",
              "      <td>0</td>\n",
              "      <td>18</td>\n",
              "      <td>...</td>\n",
              "      <td>Abbeville County, SC</td>\n",
              "      <td>2p2c</td>\n",
              "      <td>8148.0</td>\n",
              "      <td>9714.21384</td>\n",
              "      <td>14433.5988</td>\n",
              "      <td>13507.2000</td>\n",
              "      <td>6472.18428</td>\n",
              "      <td>4582.35168</td>\n",
              "      <td>63942.8376</td>\n",
              "      <td>53251.199219</td>\n",
              "    </tr>\n",
              "    <tr>\n",
              "      <th>1</th>\n",
              "      <td>17</td>\n",
              "      <td>SOUTH CAROLINA</td>\n",
              "      <td>CALHOUN FALLS</td>\n",
              "      <td>1,912</td>\n",
              "      <td>14</td>\n",
              "      <td>2.0</td>\n",
              "      <td>0</td>\n",
              "      <td>0</td>\n",
              "      <td>12</td>\n",
              "      <td>31</td>\n",
              "      <td>...</td>\n",
              "      <td>Abbeville County, SC</td>\n",
              "      <td>2p2c</td>\n",
              "      <td>8148.0</td>\n",
              "      <td>9714.21384</td>\n",
              "      <td>14433.5988</td>\n",
              "      <td>13507.2000</td>\n",
              "      <td>6472.18428</td>\n",
              "      <td>4582.35168</td>\n",
              "      <td>63942.8376</td>\n",
              "      <td>53251.199219</td>\n",
              "    </tr>\n",
              "    <tr>\n",
              "      <th>2</th>\n",
              "      <td>27</td>\n",
              "      <td>SOUTH CAROLINA</td>\n",
              "      <td>ABBEVILLE</td>\n",
              "      <td>5,017</td>\n",
              "      <td>47</td>\n",
              "      <td>9.0</td>\n",
              "      <td>4</td>\n",
              "      <td>4</td>\n",
              "      <td>30</td>\n",
              "      <td>123</td>\n",
              "      <td>...</td>\n",
              "      <td>Abbeville County, SC</td>\n",
              "      <td>2p2c</td>\n",
              "      <td>8148.0</td>\n",
              "      <td>9714.21384</td>\n",
              "      <td>14433.5988</td>\n",
              "      <td>13507.2000</td>\n",
              "      <td>6472.18428</td>\n",
              "      <td>4582.35168</td>\n",
              "      <td>63942.8376</td>\n",
              "      <td>53251.199219</td>\n",
              "    </tr>\n",
              "    <tr>\n",
              "      <th>3</th>\n",
              "      <td>35</td>\n",
              "      <td>LOUISIANA</td>\n",
              "      <td>CHURCH POINT</td>\n",
              "      <td>4,424</td>\n",
              "      <td>39</td>\n",
              "      <td>1.0</td>\n",
              "      <td>1</td>\n",
              "      <td>0</td>\n",
              "      <td>37</td>\n",
              "      <td>78</td>\n",
              "      <td>...</td>\n",
              "      <td>Acadia Parish, LA HUD Metro FMR Area</td>\n",
              "      <td>2p2c</td>\n",
              "      <td>8700.0</td>\n",
              "      <td>9114.57060</td>\n",
              "      <td>13866.2988</td>\n",
              "      <td>18289.0836</td>\n",
              "      <td>6454.92192</td>\n",
              "      <td>7041.48408</td>\n",
              "      <td>72526.2192</td>\n",
              "      <td>58169.695312</td>\n",
              "    </tr>\n",
              "    <tr>\n",
              "      <th>4</th>\n",
              "      <td>45</td>\n",
              "      <td>LOUISIANA</td>\n",
              "      <td>CROWLEY</td>\n",
              "      <td>12,621</td>\n",
              "      <td>158</td>\n",
              "      <td>1.0</td>\n",
              "      <td>8</td>\n",
              "      <td>14</td>\n",
              "      <td>135</td>\n",
              "      <td>528</td>\n",
              "      <td>...</td>\n",
              "      <td>Acadia Parish, LA HUD Metro FMR Area</td>\n",
              "      <td>2p2c</td>\n",
              "      <td>8700.0</td>\n",
              "      <td>9114.57060</td>\n",
              "      <td>13866.2988</td>\n",
              "      <td>18289.0836</td>\n",
              "      <td>6454.92192</td>\n",
              "      <td>7041.48408</td>\n",
              "      <td>72526.2192</td>\n",
              "      <td>58169.695312</td>\n",
              "    </tr>\n",
              "  </tbody>\n",
              "</table>\n",
              "<p>5 rows × 34 columns</p>\n",
              "</div>\n",
              "    <div class=\"colab-df-buttons\">\n",
              "\n",
              "  <div class=\"colab-df-container\">\n",
              "    <button class=\"colab-df-convert\" onclick=\"convertToInteractive('df-0c7d5e21-58df-462a-acac-21ce1d6ac188')\"\n",
              "            title=\"Convert this dataframe to an interactive table.\"\n",
              "            style=\"display:none;\">\n",
              "\n",
              "  <svg xmlns=\"http://www.w3.org/2000/svg\" height=\"24px\" viewBox=\"0 -960 960 960\">\n",
              "    <path d=\"M120-120v-720h720v720H120Zm60-500h600v-160H180v160Zm220 220h160v-160H400v160Zm0 220h160v-160H400v160ZM180-400h160v-160H180v160Zm440 0h160v-160H620v160ZM180-180h160v-160H180v160Zm440 0h160v-160H620v160Z\"/>\n",
              "  </svg>\n",
              "    </button>\n",
              "\n",
              "  <style>\n",
              "    .colab-df-container {\n",
              "      display:flex;\n",
              "      gap: 12px;\n",
              "    }\n",
              "\n",
              "    .colab-df-convert {\n",
              "      background-color: #E8F0FE;\n",
              "      border: none;\n",
              "      border-radius: 50%;\n",
              "      cursor: pointer;\n",
              "      display: none;\n",
              "      fill: #1967D2;\n",
              "      height: 32px;\n",
              "      padding: 0 0 0 0;\n",
              "      width: 32px;\n",
              "    }\n",
              "\n",
              "    .colab-df-convert:hover {\n",
              "      background-color: #E2EBFA;\n",
              "      box-shadow: 0px 1px 2px rgba(60, 64, 67, 0.3), 0px 1px 3px 1px rgba(60, 64, 67, 0.15);\n",
              "      fill: #174EA6;\n",
              "    }\n",
              "\n",
              "    .colab-df-buttons div {\n",
              "      margin-bottom: 4px;\n",
              "    }\n",
              "\n",
              "    [theme=dark] .colab-df-convert {\n",
              "      background-color: #3B4455;\n",
              "      fill: #D2E3FC;\n",
              "    }\n",
              "\n",
              "    [theme=dark] .colab-df-convert:hover {\n",
              "      background-color: #434B5C;\n",
              "      box-shadow: 0px 1px 3px 1px rgba(0, 0, 0, 0.15);\n",
              "      filter: drop-shadow(0px 1px 2px rgba(0, 0, 0, 0.3));\n",
              "      fill: #FFFFFF;\n",
              "    }\n",
              "  </style>\n",
              "\n",
              "    <script>\n",
              "      const buttonEl =\n",
              "        document.querySelector('#df-0c7d5e21-58df-462a-acac-21ce1d6ac188 button.colab-df-convert');\n",
              "      buttonEl.style.display =\n",
              "        google.colab.kernel.accessAllowed ? 'block' : 'none';\n",
              "\n",
              "      async function convertToInteractive(key) {\n",
              "        const element = document.querySelector('#df-0c7d5e21-58df-462a-acac-21ce1d6ac188');\n",
              "        const dataTable =\n",
              "          await google.colab.kernel.invokeFunction('convertToInteractive',\n",
              "                                                    [key], {});\n",
              "        if (!dataTable) return;\n",
              "\n",
              "        const docLinkHtml = 'Like what you see? Visit the ' +\n",
              "          '<a target=\"_blank\" href=https://colab.research.google.com/notebooks/data_table.ipynb>data table notebook</a>'\n",
              "          + ' to learn more about interactive tables.';\n",
              "        element.innerHTML = '';\n",
              "        dataTable['output_type'] = 'display_data';\n",
              "        await google.colab.output.renderOutput(dataTable, element);\n",
              "        const docLink = document.createElement('div');\n",
              "        docLink.innerHTML = docLinkHtml;\n",
              "        element.appendChild(docLink);\n",
              "      }\n",
              "    </script>\n",
              "  </div>\n",
              "\n",
              "\n",
              "<div id=\"df-8b2e09f1-f61b-4202-8d21-2ddf8d5450c4\">\n",
              "  <button class=\"colab-df-quickchart\" onclick=\"quickchart('df-8b2e09f1-f61b-4202-8d21-2ddf8d5450c4')\"\n",
              "            title=\"Suggest charts\"\n",
              "            style=\"display:none;\">\n",
              "\n",
              "<svg xmlns=\"http://www.w3.org/2000/svg\" height=\"24px\"viewBox=\"0 0 24 24\"\n",
              "     width=\"24px\">\n",
              "    <g>\n",
              "        <path d=\"M19 3H5c-1.1 0-2 .9-2 2v14c0 1.1.9 2 2 2h14c1.1 0 2-.9 2-2V5c0-1.1-.9-2-2-2zM9 17H7v-7h2v7zm4 0h-2V7h2v10zm4 0h-2v-4h2v4z\"/>\n",
              "    </g>\n",
              "</svg>\n",
              "  </button>\n",
              "\n",
              "<style>\n",
              "  .colab-df-quickchart {\n",
              "      --bg-color: #E8F0FE;\n",
              "      --fill-color: #1967D2;\n",
              "      --hover-bg-color: #E2EBFA;\n",
              "      --hover-fill-color: #174EA6;\n",
              "      --disabled-fill-color: #AAA;\n",
              "      --disabled-bg-color: #DDD;\n",
              "  }\n",
              "\n",
              "  [theme=dark] .colab-df-quickchart {\n",
              "      --bg-color: #3B4455;\n",
              "      --fill-color: #D2E3FC;\n",
              "      --hover-bg-color: #434B5C;\n",
              "      --hover-fill-color: #FFFFFF;\n",
              "      --disabled-bg-color: #3B4455;\n",
              "      --disabled-fill-color: #666;\n",
              "  }\n",
              "\n",
              "  .colab-df-quickchart {\n",
              "    background-color: var(--bg-color);\n",
              "    border: none;\n",
              "    border-radius: 50%;\n",
              "    cursor: pointer;\n",
              "    display: none;\n",
              "    fill: var(--fill-color);\n",
              "    height: 32px;\n",
              "    padding: 0;\n",
              "    width: 32px;\n",
              "  }\n",
              "\n",
              "  .colab-df-quickchart:hover {\n",
              "    background-color: var(--hover-bg-color);\n",
              "    box-shadow: 0 1px 2px rgba(60, 64, 67, 0.3), 0 1px 3px 1px rgba(60, 64, 67, 0.15);\n",
              "    fill: var(--button-hover-fill-color);\n",
              "  }\n",
              "\n",
              "  .colab-df-quickchart-complete:disabled,\n",
              "  .colab-df-quickchart-complete:disabled:hover {\n",
              "    background-color: var(--disabled-bg-color);\n",
              "    fill: var(--disabled-fill-color);\n",
              "    box-shadow: none;\n",
              "  }\n",
              "\n",
              "  .colab-df-spinner {\n",
              "    border: 2px solid var(--fill-color);\n",
              "    border-color: transparent;\n",
              "    border-bottom-color: var(--fill-color);\n",
              "    animation:\n",
              "      spin 1s steps(1) infinite;\n",
              "  }\n",
              "\n",
              "  @keyframes spin {\n",
              "    0% {\n",
              "      border-color: transparent;\n",
              "      border-bottom-color: var(--fill-color);\n",
              "      border-left-color: var(--fill-color);\n",
              "    }\n",
              "    20% {\n",
              "      border-color: transparent;\n",
              "      border-left-color: var(--fill-color);\n",
              "      border-top-color: var(--fill-color);\n",
              "    }\n",
              "    30% {\n",
              "      border-color: transparent;\n",
              "      border-left-color: var(--fill-color);\n",
              "      border-top-color: var(--fill-color);\n",
              "      border-right-color: var(--fill-color);\n",
              "    }\n",
              "    40% {\n",
              "      border-color: transparent;\n",
              "      border-right-color: var(--fill-color);\n",
              "      border-top-color: var(--fill-color);\n",
              "    }\n",
              "    60% {\n",
              "      border-color: transparent;\n",
              "      border-right-color: var(--fill-color);\n",
              "    }\n",
              "    80% {\n",
              "      border-color: transparent;\n",
              "      border-right-color: var(--fill-color);\n",
              "      border-bottom-color: var(--fill-color);\n",
              "    }\n",
              "    90% {\n",
              "      border-color: transparent;\n",
              "      border-bottom-color: var(--fill-color);\n",
              "    }\n",
              "  }\n",
              "</style>\n",
              "\n",
              "  <script>\n",
              "    async function quickchart(key) {\n",
              "      const quickchartButtonEl =\n",
              "        document.querySelector('#' + key + ' button');\n",
              "      quickchartButtonEl.disabled = true;  // To prevent multiple clicks.\n",
              "      quickchartButtonEl.classList.add('colab-df-spinner');\n",
              "      try {\n",
              "        const charts = await google.colab.kernel.invokeFunction(\n",
              "            'suggestCharts', [key], {});\n",
              "      } catch (error) {\n",
              "        console.error('Error during call to suggestCharts:', error);\n",
              "      }\n",
              "      quickchartButtonEl.classList.remove('colab-df-spinner');\n",
              "      quickchartButtonEl.classList.add('colab-df-quickchart-complete');\n",
              "    }\n",
              "    (() => {\n",
              "      let quickchartButtonEl =\n",
              "        document.querySelector('#df-8b2e09f1-f61b-4202-8d21-2ddf8d5450c4 button');\n",
              "      quickchartButtonEl.style.display =\n",
              "        google.colab.kernel.accessAllowed ? 'block' : 'none';\n",
              "    })();\n",
              "  </script>\n",
              "</div>\n",
              "\n",
              "    </div>\n",
              "  </div>\n"
            ],
            "application/vnd.google.colaboratory.intrinsic+json": {
              "type": "dataframe",
              "variable_name": "dataset"
            }
          },
          "metadata": {},
          "execution_count": 4
        }
      ]
    },
    {
      "cell_type": "code",
      "source": [
        "dataset.shape"
      ],
      "metadata": {
        "colab": {
          "base_uri": "https://localhost:8080/"
        },
        "id": "gAaTZWVuZbbb",
        "outputId": "4989d544-cf53-45ba-9d6a-c31978912c97"
      },
      "execution_count": 5,
      "outputs": [
        {
          "output_type": "execute_result",
          "data": {
            "text/plain": [
              "(6242, 34)"
            ]
          },
          "metadata": {},
          "execution_count": 5
        }
      ]
    },
    {
      "cell_type": "code",
      "source": [
        "dataset.columns.unique()"
      ],
      "metadata": {
        "colab": {
          "base_uri": "https://localhost:8080/"
        },
        "id": "5WfdlLM-zHVS",
        "outputId": "28a16dcf-f9de-4dc0-cec2-a1e7b3006a6e"
      },
      "execution_count": 6,
      "outputs": [
        {
          "output_type": "execute_result",
          "data": {
            "text/plain": [
              "Index(['Unnamed: 0', 'State', 'City', 'Population', 'V_crime', 'Murder',\n",
              "       'Rape', 'Robbery', 'Aggravated assault', 'Property crime', 'Burglary',\n",
              "       'Larceny-theft', 'Motor vehicle theft', 'city', 'city_ascii',\n",
              "       'state_name', 'county_fips', 'county_name', 'population', 'density',\n",
              "       'source', 'incorporated', 'ranking', 'isMetro', 'areaname',\n",
              "       'family_member_count', 'housing_cost', 'food_cost',\n",
              "       'transportation_cost', 'healthcare_cost', 'other_necessities_cost',\n",
              "       'taxes', 'total_cost', 'median_family_income'],\n",
              "      dtype='object')"
            ]
          },
          "metadata": {},
          "execution_count": 6
        }
      ]
    },
    {
      "cell_type": "code",
      "source": [
        "columns_to_drop = ['Unnamed: 0','city','city_ascii','state_name','county_fips']\n",
        "dataset = dataset.drop(columns=columns_to_drop)\n",
        "dataset.shape"
      ],
      "metadata": {
        "colab": {
          "base_uri": "https://localhost:8080/"
        },
        "id": "wGdQ9RbTy_he",
        "outputId": "95cde149-d11c-418b-ccc4-a69694e6fabb"
      },
      "execution_count": 7,
      "outputs": [
        {
          "output_type": "execute_result",
          "data": {
            "text/plain": [
              "(6242, 29)"
            ]
          },
          "metadata": {},
          "execution_count": 7
        }
      ]
    },
    {
      "cell_type": "code",
      "source": [
        "dataset.columns.unique()"
      ],
      "metadata": {
        "colab": {
          "base_uri": "https://localhost:8080/"
        },
        "id": "GRobUavFzcQ_",
        "outputId": "f6b30671-1f42-4b7f-bbb1-a470592f274f"
      },
      "execution_count": 8,
      "outputs": [
        {
          "output_type": "execute_result",
          "data": {
            "text/plain": [
              "Index(['State', 'City', 'Population', 'V_crime', 'Murder', 'Rape', 'Robbery',\n",
              "       'Aggravated assault', 'Property crime', 'Burglary', 'Larceny-theft',\n",
              "       'Motor vehicle theft', 'county_name', 'population', 'density', 'source',\n",
              "       'incorporated', 'ranking', 'isMetro', 'areaname', 'family_member_count',\n",
              "       'housing_cost', 'food_cost', 'transportation_cost', 'healthcare_cost',\n",
              "       'other_necessities_cost', 'taxes', 'total_cost',\n",
              "       'median_family_income'],\n",
              "      dtype='object')"
            ]
          },
          "metadata": {},
          "execution_count": 8
        }
      ]
    },
    {
      "cell_type": "code",
      "source": [
        "def categorize_cost(housing_cost):\n",
        "    if housing_cost <= dataset['housing_cost'].quantile(0.33):\n",
        "        return 'Low'\n",
        "    elif housing_cost <= dataset['housing_cost'].quantile(0.66):\n",
        "        return 'Medium'\n",
        "    else:\n",
        "        return 'High'\n",
        "\n",
        "dataset['cost_category'] = dataset['housing_cost'].apply(categorize_cost)\n",
        "\n",
        "# Print the first few rows to verify\n",
        "print(dataset.head())"
      ],
      "metadata": {
        "colab": {
          "base_uri": "https://localhost:8080/"
        },
        "id": "Lkkd1Weyz1fs",
        "outputId": "a300c2ec-a78b-462d-bad3-34b6b2d7694b"
      },
      "execution_count": 9,
      "outputs": [
        {
          "output_type": "stream",
          "name": "stdout",
          "text": [
            "            State           City Population V_crime  Murder Rape Robbery  \\\n",
            "0  SOUTH CAROLINA       DUE WEST      1,240       0     0.0    0       0   \n",
            "1  SOUTH CAROLINA  CALHOUN FALLS      1,912      14     2.0    0       0   \n",
            "2  SOUTH CAROLINA      ABBEVILLE      5,017      47     9.0    4       4   \n",
            "3       LOUISIANA   CHURCH POINT      4,424      39     1.0    1       0   \n",
            "4       LOUISIANA        CROWLEY     12,621     158     1.0    8      14   \n",
            "\n",
            "  Aggravated assault Property crime Burglary  ... family_member_count  \\\n",
            "0                  0             18        3  ...                2p2c   \n",
            "1                 12             31       11  ...                2p2c   \n",
            "2                 30            123       29  ...                2p2c   \n",
            "3                 37             78       18  ...                2p2c   \n",
            "4                135            528      132  ...                2p2c   \n",
            "\n",
            "  housing_cost   food_cost  transportation_cost  healthcare_cost  \\\n",
            "0       8148.0  9714.21384           14433.5988       13507.2000   \n",
            "1       8148.0  9714.21384           14433.5988       13507.2000   \n",
            "2       8148.0  9714.21384           14433.5988       13507.2000   \n",
            "3       8700.0  9114.57060           13866.2988       18289.0836   \n",
            "4       8700.0  9114.57060           13866.2988       18289.0836   \n",
            "\n",
            "  other_necessities_cost       taxes  total_cost  median_family_income  \\\n",
            "0             6472.18428  4582.35168  63942.8376          53251.199219   \n",
            "1             6472.18428  4582.35168  63942.8376          53251.199219   \n",
            "2             6472.18428  4582.35168  63942.8376          53251.199219   \n",
            "3             6454.92192  7041.48408  72526.2192          58169.695312   \n",
            "4             6454.92192  7041.48408  72526.2192          58169.695312   \n",
            "\n",
            "  cost_category  \n",
            "0           Low  \n",
            "1           Low  \n",
            "2           Low  \n",
            "3           Low  \n",
            "4           Low  \n",
            "\n",
            "[5 rows x 30 columns]\n"
          ]
        }
      ]
    },
    {
      "cell_type": "code",
      "source": [
        "dataset.shape"
      ],
      "metadata": {
        "colab": {
          "base_uri": "https://localhost:8080/"
        },
        "id": "6NiUi1XEZ0Nn",
        "outputId": "92f6b337-1f19-449e-ea2d-dc58aebc9443"
      },
      "execution_count": 10,
      "outputs": [
        {
          "output_type": "execute_result",
          "data": {
            "text/plain": [
              "(6242, 30)"
            ]
          },
          "metadata": {},
          "execution_count": 10
        }
      ]
    },
    {
      "cell_type": "code",
      "source": [
        "dataset['Property crime'].dtype"
      ],
      "metadata": {
        "colab": {
          "base_uri": "https://localhost:8080/"
        },
        "id": "z_bW0sK82ELd",
        "outputId": "15a2619b-3f73-4e2e-9ec4-ae8a93a26fb7"
      },
      "execution_count": 11,
      "outputs": [
        {
          "output_type": "execute_result",
          "data": {
            "text/plain": [
              "dtype('O')"
            ]
          },
          "metadata": {},
          "execution_count": 11
        }
      ]
    },
    {
      "cell_type": "code",
      "source": [
        "dataset['Property crime'] = pd.to_numeric(dataset['Property crime'], errors='coerce')"
      ],
      "metadata": {
        "id": "vhj1vlPX2VrK"
      },
      "execution_count": 12,
      "outputs": []
    },
    {
      "cell_type": "code",
      "source": [
        "dataset.shape"
      ],
      "metadata": {
        "colab": {
          "base_uri": "https://localhost:8080/"
        },
        "id": "FLBNUpWAZ5NY",
        "outputId": "96618903-0fe4-4979-8f49-084a39334554"
      },
      "execution_count": 13,
      "outputs": [
        {
          "output_type": "execute_result",
          "data": {
            "text/plain": [
              "(6242, 30)"
            ]
          },
          "metadata": {},
          "execution_count": 13
        }
      ]
    },
    {
      "cell_type": "code",
      "source": [
        "def categorize_property_crime(property_crime):\n",
        "    if property_crime <= dataset['Property crime'].quantile(0.33):\n",
        "        return 'Low Crime'\n",
        "    elif property_crime <= dataset['Property crime'].quantile(0.66):\n",
        "        return 'Medium Crime'\n",
        "    else:\n",
        "        return 'High Crime'\n",
        "\n",
        "# Apply the function to create the new column\n",
        "dataset['property_crime_category'] = dataset['Property crime'].apply(categorize_property_crime)\n",
        "\n",
        "# Print the first few rows to verify\n",
        "print(dataset.head())"
      ],
      "metadata": {
        "colab": {
          "base_uri": "https://localhost:8080/"
        },
        "id": "6zdjDDy611h4",
        "outputId": "3cac9ed7-ea60-4369-a6a2-3f235fd3b314"
      },
      "execution_count": 14,
      "outputs": [
        {
          "output_type": "stream",
          "name": "stdout",
          "text": [
            "            State           City Population V_crime  Murder Rape Robbery  \\\n",
            "0  SOUTH CAROLINA       DUE WEST      1,240       0     0.0    0       0   \n",
            "1  SOUTH CAROLINA  CALHOUN FALLS      1,912      14     2.0    0       0   \n",
            "2  SOUTH CAROLINA      ABBEVILLE      5,017      47     9.0    4       4   \n",
            "3       LOUISIANA   CHURCH POINT      4,424      39     1.0    1       0   \n",
            "4       LOUISIANA        CROWLEY     12,621     158     1.0    8      14   \n",
            "\n",
            "  Aggravated assault  Property crime Burglary  ... housing_cost   food_cost  \\\n",
            "0                  0            18.0        3  ...       8148.0  9714.21384   \n",
            "1                 12            31.0       11  ...       8148.0  9714.21384   \n",
            "2                 30           123.0       29  ...       8148.0  9714.21384   \n",
            "3                 37            78.0       18  ...       8700.0  9114.57060   \n",
            "4                135           528.0      132  ...       8700.0  9114.57060   \n",
            "\n",
            "  transportation_cost  healthcare_cost  other_necessities_cost       taxes  \\\n",
            "0          14433.5988       13507.2000              6472.18428  4582.35168   \n",
            "1          14433.5988       13507.2000              6472.18428  4582.35168   \n",
            "2          14433.5988       13507.2000              6472.18428  4582.35168   \n",
            "3          13866.2988       18289.0836              6454.92192  7041.48408   \n",
            "4          13866.2988       18289.0836              6454.92192  7041.48408   \n",
            "\n",
            "   total_cost  median_family_income  cost_category property_crime_category  \n",
            "0  63942.8376          53251.199219            Low               Low Crime  \n",
            "1  63942.8376          53251.199219            Low            Medium Crime  \n",
            "2  63942.8376          53251.199219            Low            Medium Crime  \n",
            "3  72526.2192          58169.695312            Low            Medium Crime  \n",
            "4  72526.2192          58169.695312            Low              High Crime  \n",
            "\n",
            "[5 rows x 31 columns]\n"
          ]
        }
      ]
    },
    {
      "cell_type": "code",
      "source": [
        "dataset.shape"
      ],
      "metadata": {
        "colab": {
          "base_uri": "https://localhost:8080/"
        },
        "id": "AbZmfFmFZ-35",
        "outputId": "cb62dacd-32ec-4a99-c987-508c8fbaccde"
      },
      "execution_count": 15,
      "outputs": [
        {
          "output_type": "execute_result",
          "data": {
            "text/plain": [
              "(6242, 31)"
            ]
          },
          "metadata": {},
          "execution_count": 15
        }
      ]
    },
    {
      "cell_type": "code",
      "source": [
        "from scipy.stats import chi2_contingency\n",
        "\n",
        "# Assuming your dataset is stored in a DataFrame called 'dataset'\n",
        "\n",
        "# Create a contingency table\n",
        "contingency_table = pd.crosstab(dataset['property_crime_category'], dataset['cost_category'])\n",
        "\n",
        "# Perform Chi-squared test\n",
        "chi2, p_value, dof, expected = chi2_contingency(contingency_table)\n",
        "\n",
        "# Print the results\n",
        "print(\"Chi-squared statistic:\", chi2)\n",
        "print(\"P-value:\", p_value)\n",
        "print(\"Degrees of freedom:\", dof)\n",
        "print(\"Expected frequencies table:\")\n",
        "print(expected)"
      ],
      "metadata": {
        "colab": {
          "base_uri": "https://localhost:8080/"
        },
        "id": "uTHVI_Yp18-o",
        "outputId": "b474ce74-cf94-440c-a937-cd40c336cf57"
      },
      "execution_count": 16,
      "outputs": [
        {
          "output_type": "stream",
          "name": "stdout",
          "text": [
            "Chi-squared statistic: 451.9325262601026\n",
            "P-value: 1.6598167143675777e-96\n",
            "Degrees of freedom: 4\n",
            "Expected frequencies table:\n",
            "[[879.06504326 887.82233259 836.11262416]\n",
            " [618.01345723 624.17013778 587.816405  ]\n",
            " [610.92149952 617.00752964 581.07097084]]\n"
          ]
        }
      ]
    },
    {
      "cell_type": "code",
      "source": [
        "from scipy.stats import ttest_ind\n",
        "\n",
        "property_crime = dataset['Property crime']\n",
        "housing_cost = dataset['housing_cost']\n",
        "# print(property_crime)\n",
        "# print(housing_cost)\n",
        "\n",
        "t_statistic, p_value = ttest_ind(property_crime, housing_cost)\n",
        "\n",
        "print(\"T-statistic:\", t_statistic)\n",
        "print(\"P-value:\", p_value)"
      ],
      "metadata": {
        "colab": {
          "base_uri": "https://localhost:8080/"
        },
        "id": "T5qFSvx3Kqzg",
        "outputId": "ee558535-d7d2-4a31-f069-189439672d03"
      },
      "execution_count": 18,
      "outputs": [
        {
          "output_type": "stream",
          "name": "stdout",
          "text": [
            "0        18.0\n",
            "1        31.0\n",
            "2       123.0\n",
            "3        78.0\n",
            "4       528.0\n",
            "        ...  \n",
            "6237      1.0\n",
            "6238     19.0\n",
            "6239     31.0\n",
            "6240      NaN\n",
            "6241     41.0\n",
            "Name: Property crime, Length: 6242, dtype: float64\n",
            "0        8148.0\n",
            "1        8148.0\n",
            "2        8148.0\n",
            "3        8700.0\n",
            "4        8700.0\n",
            "         ...   \n",
            "6237    11124.0\n",
            "6238    11124.0\n",
            "6239    11124.0\n",
            "6240    11124.0\n",
            "6241     8808.0\n",
            "Name: housing_cost, Length: 6242, dtype: float64\n",
            "T-statistic: nan\n",
            "P-value: nan\n"
          ]
        }
      ]
    },
    {
      "cell_type": "code",
      "source": [
        "import numpy as np\n",
        "\n",
        "# Check for missing values\n",
        "property_crime_missing = dataset['Property crime'].isnull().sum()\n",
        "housing_cost_missing = dataset['housing_cost'].isnull().sum()\n",
        "\n",
        "print(\"Missing values in Property crime column:\", property_crime_missing)\n",
        "print(\"Missing values in Housing cost column:\", housing_cost_missing)\n",
        "\n",
        "# Check for constant values\n",
        "property_crime_unique = dataset['Property crime'].unique()\n",
        "housing_cost_unique = dataset['housing_cost'].unique()\n",
        "\n",
        "print(\"Number of unique values in Property crime column:\", len(property_crime_unique))\n",
        "print(\"Number of unique values in Housing cost column:\", len(housing_cost_unique))\n",
        "\n",
        "# Check data type\n",
        "print(\"Data type of Property crime column:\", dataset['Property crime'].dtype)\n",
        "print(\"Data type of Housing cost column:\", dataset['housing_cost'].dtype)\n",
        "\n",
        "# Summary statistics\n",
        "property_crime_summary = dataset['Property crime'].describe()\n",
        "housing_cost_summary = dataset['housing_cost'].describe()\n",
        "\n",
        "print(\"Summary statistics of Property crime column:\")\n",
        "print(property_crime_summary)\n",
        "\n",
        "print(\"Summary statistics of Housing cost column:\")\n",
        "print(housing_cost_summary)\n"
      ],
      "metadata": {
        "colab": {
          "base_uri": "https://localhost:8080/"
        },
        "id": "vCVAPCV0KvH9",
        "outputId": "fcff7992-482f-41f2-efe3-dad5fb89d5c6"
      },
      "execution_count": 19,
      "outputs": [
        {
          "output_type": "stream",
          "name": "stdout",
          "text": [
            "Missing values in Property crime column: 735\n",
            "Missing values in Housing cost column: 0\n",
            "Number of unique values in Property crime column: 813\n",
            "Number of unique values in Housing cost column: 704\n",
            "Data type of Property crime column: float64\n",
            "Data type of Housing cost column: float64\n",
            "Summary statistics of Property crime column:\n",
            "count    5507.000000\n",
            "mean      168.513528\n",
            "std       220.235620\n",
            "min         0.000000\n",
            "25%        19.000000\n",
            "50%        69.000000\n",
            "75%       232.000000\n",
            "max       999.000000\n",
            "Name: Property crime, dtype: float64\n",
            "Summary statistics of Housing cost column:\n",
            "count     6242.000000\n",
            "mean     11943.495245\n",
            "std       5033.259602\n",
            "min       6265.986360\n",
            "25%       8736.000000\n",
            "50%       9952.324920\n",
            "75%      13716.000000\n",
            "max      48028.585200\n",
            "Name: housing_cost, dtype: float64\n"
          ]
        }
      ]
    },
    {
      "cell_type": "code",
      "source": [
        "property_crime_mean = dataset['Property crime'].mean()\n",
        "dataset['Property crime'].fillna(property_crime_mean, inplace=True)"
      ],
      "metadata": {
        "id": "x6JLNh7oMJ-k"
      },
      "execution_count": 20,
      "outputs": []
    },
    {
      "cell_type": "code",
      "source": [
        "from scipy.stats import ttest_ind\n",
        "\n",
        "property_crime = dataset['Property crime']\n",
        "housing_cost = dataset['housing_cost']\n",
        "# print(property_crime)\n",
        "# print(housing_cost)\n",
        "\n",
        "t_statistic, p_value = ttest_ind(property_crime, housing_cost)\n",
        "\n",
        "print(\"T-statistic:\", t_statistic)\n",
        "print(\"P-value:\", p_value)"
      ],
      "metadata": {
        "colab": {
          "base_uri": "https://localhost:8080/"
        },
        "id": "XWkA5hzHNVCF",
        "outputId": "26a0a4de-9b52-4d4f-f394-60316960b211"
      },
      "execution_count": 22,
      "outputs": [
        {
          "output_type": "stream",
          "name": "stdout",
          "text": [
            "T-statistic: -184.67423824469677\n",
            "P-value: 0.0\n"
          ]
        }
      ]
    },
    {
      "cell_type": "code",
      "source": [],
      "metadata": {
        "id": "WJLNNLRUNZJC"
      },
      "execution_count": null,
      "outputs": []
    }
  ]
}