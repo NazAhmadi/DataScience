{
  "nbformat": 4,
  "nbformat_minor": 0,
  "metadata": {
    "colab": {
      "provenance": []
    },
    "kernelspec": {
      "name": "python3",
      "display_name": "Python 3"
    },
    "language_info": {
      "name": "python"
    }
  },
  "cells": [
    {
      "cell_type": "code",
      "execution_count": 2,
      "metadata": {
        "colab": {
          "base_uri": "https://localhost:8080/"
        },
        "id": "LRjcg_vSN0GO",
        "outputId": "29879134-ab3f-4b0d-824c-d5213842cb96"
      },
      "outputs": [
        {
          "output_type": "stream",
          "name": "stdout",
          "text": [
            "Mounted at /content/drive\n"
          ]
        }
      ],
      "source": [
        "from google.colab import drive\n",
        "drive.mount('/content/drive')"
      ]
    },
    {
      "cell_type": "code",
      "source": [
        "import pandas as pd\n",
        "csv_file_path = '/content/drive/MyDrive/DataScienceFinalProject/FinalMergedData3.csv'\n",
        "data = pd.read_csv(csv_file_path, thousands=r',')\n",
        "data.head()\n",
        "data.info(verbose=True)"
      ],
      "metadata": {
        "colab": {
          "base_uri": "https://localhost:8080/"
        },
        "id": "IZqNg04KOMu3",
        "outputId": "521dab42-2598-41e0-fd19-3b632ea664e1"
      },
      "execution_count": 3,
      "outputs": [
        {
          "output_type": "stream",
          "name": "stdout",
          "text": [
            "<class 'pandas.core.frame.DataFrame'>\n",
            "RangeIndex: 6242 entries, 0 to 6241\n",
            "Data columns (total 34 columns):\n",
            " #   Column                  Non-Null Count  Dtype  \n",
            "---  ------                  --------------  -----  \n",
            " 0   Unnamed: 0              6242 non-null   int64  \n",
            " 1   State                   6242 non-null   object \n",
            " 2   City                    6242 non-null   object \n",
            " 3   Population              6241 non-null   float64\n",
            " 4   V_crime                 6242 non-null   int64  \n",
            " 5   Murder                  6242 non-null   float64\n",
            " 6   Rape                    6242 non-null   int64  \n",
            " 7   Robbery                 6242 non-null   int64  \n",
            " 8   Aggravated assault      6242 non-null   int64  \n",
            " 9   Property crime          6242 non-null   int64  \n",
            " 10  Burglary                6242 non-null   int64  \n",
            " 11  Larceny-theft           6242 non-null   int64  \n",
            " 12  Motor vehicle theft     6242 non-null   int64  \n",
            " 13  city                    6242 non-null   object \n",
            " 14  city_ascii              6242 non-null   object \n",
            " 15  state_name              6242 non-null   object \n",
            " 16  county_fips             6242 non-null   int64  \n",
            " 17  county_name             6242 non-null   object \n",
            " 18  population              6242 non-null   int64  \n",
            " 19  density                 6242 non-null   int64  \n",
            " 20  source                  6242 non-null   object \n",
            " 21  incorporated            6242 non-null   bool   \n",
            " 22  ranking                 6242 non-null   int64  \n",
            " 23  isMetro                 6242 non-null   bool   \n",
            " 24  areaname                6242 non-null   object \n",
            " 25  family_member_count     6242 non-null   object \n",
            " 26  housing_cost            6242 non-null   float64\n",
            " 27  food_cost               6242 non-null   float64\n",
            " 28  transportation_cost     6242 non-null   float64\n",
            " 29  healthcare_cost         6242 non-null   float64\n",
            " 30  other_necessities_cost  6242 non-null   float64\n",
            " 31  taxes                   6242 non-null   float64\n",
            " 32  total_cost              6242 non-null   float64\n",
            " 33  median_family_income    6242 non-null   float64\n",
            "dtypes: bool(2), float64(10), int64(13), object(9)\n",
            "memory usage: 1.5+ MB\n"
          ]
        }
      ]
    },
    {
      "cell_type": "code",
      "source": [
        "from scipy.stats import f_oneway\n",
        "\n",
        "data.dropna(inplace=True)\n",
        "data[\"crime_rate\"] = (\n",
        "        data[\"V_crime\"] + \\\n",
        "        data[\"Murder\"] + \\\n",
        "        data[\"Rape\"] + \\\n",
        "        data[\"Robbery\"] + \\\n",
        "        data[\"Aggravated assault\"] + \\\n",
        "        data[\"Property crime\"] + \\\n",
        "        data[\"Burglary\"] + \\\n",
        "        data[\"Larceny-theft\"] + \\\n",
        "        data[\"Motor vehicle theft\"]) \\\n",
        "        / data['population']\n",
        "\n",
        "# Define density categories\n",
        "density_categories = [\n",
        "    (\"Very High\", data[data[\"density\"] > 7000]),\n",
        "    (\"High\", data[(data[\"density\"] > 5200) & (data[\"density\"] <= 7000)]),\n",
        "    (\"Medium\", data[(data[\"density\"] > 3330) & (data[\"density\"] <= 5200)]),\n",
        "    (\"Low\", data[(data[\"density\"] > 1500) & (data[\"density\"] <= 3330)]),\n",
        "    (\"Very Low\", data[data[\"density\"] <= 1500])\n",
        "]\n",
        "\n",
        "crimes = [\n",
        "    \"V_crime\", \"Murder\", \"Rape\", \"Robbery\",\n",
        "    \"Aggravated assault\", \"Property crime\",\n",
        "    \"Burglary\", \"Larceny-theft\", \"Motor vehicle theft\"\n",
        "]\n",
        "\n",
        "# Perform ANOVA test\n",
        "anova_result = f_oneway(\n",
        "    *[subset[\"crime_rate\"] for category, subset in density_categories]\n",
        ")\n",
        "\n",
        "# Print ANOVA result\n",
        "print(\"ANOVA Result:\")\n",
        "print(\"F-statistic:\", anova_result.statistic)\n",
        "print(\"p-value:\", anova_result.pvalue)\n",
        "\n",
        "for c, s in density_categories:\n",
        "    print(c, s.describe()['crime_rate']['mean'])"
      ],
      "metadata": {
        "colab": {
          "base_uri": "https://localhost:8080/"
        },
        "id": "ysxHp4BLOXyz",
        "outputId": "0dd12d6f-7746-4861-f4d0-2c1bc2a5d7e2"
      },
      "execution_count": 15,
      "outputs": [
        {
          "output_type": "stream",
          "name": "stdout",
          "text": [
            "ANOVA Result:\n",
            "F-statistic: 0.061974388029529606\n",
            "p-value: 0.9929226445827164\n",
            "Very High 3.622189632263154\n",
            "High 3.699329736384454\n",
            "Medium 5.276462195305625\n",
            "Low 4.20668947277939\n",
            "Very Low 5.531181836656951\n"
          ]
        }
      ]
    }
  ]
}